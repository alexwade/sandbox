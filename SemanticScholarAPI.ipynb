{
  "nbformat": 4,
  "nbformat_minor": 0,
  "metadata": {
    "colab": {
      "provenance": [],
      "authorship_tag": "ABX9TyO9nCkRskc67s5Eqes2mk1X",
      "include_colab_link": true
    },
    "kernelspec": {
      "name": "python3",
      "display_name": "Python 3"
    },
    "language_info": {
      "name": "python"
    }
  },
  "cells": [
    {
      "cell_type": "markdown",
      "metadata": {
        "id": "view-in-github",
        "colab_type": "text"
      },
      "source": [
        "<a href=\"https://colab.research.google.com/github/alexwade/sandbox/blob/main/SemanticScholarAPI.ipynb\" target=\"_parent\"><img src=\"https://colab.research.google.com/assets/colab-badge.svg\" alt=\"Open In Colab\"/></a>"
      ]
    },
    {
      "cell_type": "code",
      "execution_count": 25,
      "metadata": {
        "colab": {
          "base_uri": "https://localhost:8080/"
        },
        "id": "nXFDvpcinyNF",
        "outputId": "6920fac8-5b41-4d42-a1dd-b21e1bbd4005"
      },
      "outputs": [
        {
          "output_type": "stream",
          "name": "stdout",
          "text": [
            "1. Author String search, or\n",
            "2. Author ID search?\n",
            "2\n",
            "Provide an author ID (e.g. 1860983): 1860983\n",
            "https://api.semanticscholar.org/graph/v1/author/1860983\n",
            "{'fields': 'papers.title,papers.year'}\n",
            "{'paperId': 'cb92a7f9d9dbcf9145e32fdfa0e70e2a6b828eb1', 'title': 'The Semantic Scholar Open Data Platform', 'year': 2023}\n",
            "\n",
            "{'paperId': '597c249c88630cfe9e7d3d73bae964eb26389348', 'title': 'The Semantic Scholar Academic Graph (S2AG)', 'year': 2022}\n",
            "\n",
            "{'paperId': '3e6bd28ff0baddbfbe2ed8a0ff7b3ac8897fa668', 'title': 'Rich Search and Discovery for Research Datasets: Building the Next Generation of Scholarly Infrastructure', 'year': 2020}\n",
            "\n",
            "{'paperId': 'bc411487f305e451d7485e53202ec241fcc97d3b', 'title': 'CORD-19: The Covid-19 Open Research Dataset', 'year': 2020}\n",
            "\n",
            "{'paperId': '8366e0efb5d36033d8d103707ed03190642f564b', 'title': 'Personalized Feed/Query-formulation, Predictive Impact, and Ranking', 'year': 2019}\n",
            "\n",
            "{'paperId': '76196ed792ce7a5f7cba598ec209165423871c8b', 'title': 'WSDM Cup 2016: Entity Ranking Challenge', 'year': 2016}\n",
            "\n",
            "{'paperId': '7c44ec2116c8226822b209da71d3e0b577e2d9ca', 'title': 'IJCAI 2016 Proceedings of the Workshop on Scholarly Big Data: AI Perspectives, Challenges, and Ideas', 'year': 2016}\n",
            "\n",
            "{'paperId': '8f0b99fbc96e7f2cc44effab028e92530a9ca964', 'title': 'The rise of the machines: Artificial intelligence meets scholarly content', 'year': 2016}\n",
            "\n",
            "{'paperId': '759a20b5fb13145fd2ba5cd6edceaca260e069fe', 'title': 'DOE Advanced Scientific Computing Advisory Committee (ASCAC) Subcommittee Report on Scientific and Technical Information', 'year': 2015}\n",
            "\n",
            "{'paperId': '49217134c6f0b15a82fa6b6f0aa25a384770c580', 'title': 'Research Data Management in the Cloud', 'year': 2014}\n",
            "\n",
            "{'paperId': 'a3a02b17e2312a569dc896c0358b8d97c7861ba5', 'title': 'Interactive Multi-Submission Deposit Workflows for Desktop Applications', 'year': 2010}\n",
            "\n",
            "{'paperId': 'e2a0cac506d716cd02227d52fd48dd91116b6ec1', 'title': 'Word add-in for ontology recognition: semantic enrichment of scientific literature', 'year': 2010}\n",
            "\n",
            "{'paperId': 'daee3a88953f29ad1d42bc84fcd191ff75193bfc', 'title': 'Tools for Researchers – Microsoft Research and the Scholarly Information Ecosystem', 'year': 2009}\n",
            "\n",
            "{'paperId': '1e9db31905aad725cacaed2a22b4d1689e4b5014', 'title': 'T3: A Virtual Research Environment and a Research- Output Repository Platform', 'year': 2008}\n",
            "\n",
            "{'paperId': '3c3da37b0cbca673178af0defb7189b07487c883', 'title': 'Coquille de systeme de fichiers', 'year': 2005}\n",
            "\n",
            "{'paperId': '4cd8d73e90ded282d33b471aad2a28e6ecd935d4', 'title': 'Putting It All Together', 'year': 2000}\n",
            "\n",
            "{'paperId': 'b58f509b0423eb2f6a145ab4dca51f3d5bfaae3e', 'title': 'Philosophical Transactions of the Royal Society a Enhancing Research Publications Using Rich Interactive Narratives Article in Press Enhancing Research Publications Using Rich Interactive Narratives', 'year': None}\n",
            "\n"
          ]
        }
      ],
      "source": [
        "import requests\n",
        "import json\n",
        "\n",
        "endpoint = 'https://api.semanticscholar.org/graph/v1/author/'\n",
        "\n",
        "user_input = input('1. Author String search, or\\n2. Author ID search?\\n')\n",
        "\n",
        "if int(user_input) == 1:\n",
        "    author_query_string = input('ok! string search! Provide a name to search for: ')\n",
        "    endpoint = endpoint + 'search'\n",
        "    parameters = {'query':author_query_string,\n",
        "                'fields':'name,url,paperCount,hIndex'}\n",
        "    returns = 'data'\n",
        "    properties = 'authorId'\n",
        "\n",
        "elif int(user_input) == 2:\n",
        "    endpoint = endpoint + input('Provide an author ID (e.g. 1860983): ')\n",
        "    parameters = {'fields':'papers.title,papers.year'}\n",
        "    returns = 'papers'\n",
        "    properties = 'title'\n",
        "else:\n",
        "    print('bad input')\n",
        "\n",
        "print(endpoint)\n",
        "print(parameters)\n",
        "\n",
        "headers = {}\n",
        "headers = {'Content-Type' : 'application/json'}\n",
        "\n",
        "response = requests.get(url=endpoint, headers=headers, params=parameters)\n",
        "#print(response)\n",
        "response.raise_for_status()\n",
        "\n",
        "results = response.json()\n",
        "#print(json.dumps(results))\n",
        "for item in results[returns]:\n",
        "    print(item)\n",
        "    print()\n",
        "\n",
        "#count = 1\n",
        "#for item in results[returns]:\n",
        "#    print(str(count) + \" \" + item[properties])\n",
        "#    count=count+1\n",
        "#    print()"
      ]
    }
  ]
}