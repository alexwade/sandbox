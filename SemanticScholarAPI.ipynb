{
  "nbformat": 4,
  "nbformat_minor": 0,
  "metadata": {
    "colab": {
      "provenance": [],
      "authorship_tag": "ABX9TyO9nCkRskc67s5Eqes2mk1X",
      "include_colab_link": true
    },
    "kernelspec": {
      "name": "python3",
      "display_name": "Python 3"
    },
    "language_info": {
      "name": "python"
    }
  },
  "cells": [
    {
      "cell_type": "markdown",
      "metadata": {
        "id": "view-in-github",
        "colab_type": "text"
      },
      "source": [
        "<a href=\"https://colab.research.google.com/github/alexwade/sandbox/blob/main/SemanticScholarAPI.ipynb\" target=\"_parent\"><img src=\"https://colab.research.google.com/assets/colab-badge.svg\" alt=\"Open In Colab\"/></a>"
      ]
    },
    {
      "cell_type": "code",
      "execution_count": 23,
      "metadata": {
        "colab": {
          "base_uri": "https://localhost:8080/"
        },
        "id": "nXFDvpcinyNF",
        "outputId": "424526ed-8fec-4c38-c070-88fee99b1d48"
      },
      "outputs": [
        {
          "output_type": "stream",
          "name": "stdout",
          "text": [
            "1. Author String search, or\n",
            "2. Author ID search?\n",
            "2\n",
            "Provide an author ID (e.g. 1860983): 40630801\n",
            "https://api.semanticscholar.org/graph/v1/author/40630801\n",
            "{'fields': 'papers.title,papers.year'}\n",
            "{'paperId': '3b45e0dcfd4629e4bf8dfbc32949afbd38034c74', 'title': 'Crossref Annual Meeting LIVE21', 'year': 2021}\n",
            "\n",
            "{'paperId': 'ef495332c6053164d84c77cc9d702db5e7679476', 'title': 'Crossref Annual Meeting LIVE21 presentation', 'year': 2021}\n",
            "\n",
            "{'paperId': 'd59bf028527a4cae0ba98c6dfc870e007b15c379', 'title': 'cite-as: A Link Relation to Convey a Preferred URI for Referencing', 'year': 2019}\n",
            "\n",
            "{'paperId': '00ea49014651150965dd8651c08b081ba686271d', 'title': 'The bollockschain and other PID hallucinations', 'year': 2018}\n",
            "\n",
            "{'paperId': '30fb562bd4f2632912f1d1624c0e95f487b6f4a1', 'title': 'Committee: ORCID Privacy Committee', 'year': 2018}\n",
            "\n",
            "{'paperId': '3411437ab34ba781ef1ede17f4f6946070c000da', 'title': 'Mapping the global influence of published research on industry and innovation', 'year': 2018}\n",
            "\n",
            "{'paperId': 'b0ad54aac798742f59f99e08eb821d373025bbe1', 'title': 'Erratum: Bringing up baby', 'year': 2018}\n",
            "\n",
            "{'paperId': '95b4d29453a938c50fe92bfe4b0e1f50b8c4641c', 'title': 'Identifier: A Link Relation to Convey a Preferred URI for Referencing', 'year': 2017}\n",
            "\n",
            "{'paperId': 'd9be851c45ffe176562fe75bcec79167791f1369', 'title': 'Disambiguation without deduplication : Modeling authority and trust in the ORCID system', 'year': 2017}\n",
            "\n",
            "{'paperId': '6be82d7386bad7dba651d5a9e74889f6af2ff55f', 'title': 'Organisation identifiers: current provider survey', 'year': 2016}\n",
            "\n",
            "{'paperId': 'c104e2e77603fb3b1ad009759362984248ca2275', 'title': 'Evolving Open Solutions (1)', 'year': 2016}\n",
            "\n",
            "{'paperId': 'c3d7f26ffe19281abb625500ded5402f88310228', 'title': 'Report from the Evolving Open Solutions (1) Workgroup', 'year': 2016}\n",
            "\n",
            "{'paperId': 'deebee01c112f203c4dc7f5f63b6afb2c4b04105', 'title': 'On the origin of nonequivalent states: How we can talk about preprints', 'year': 2016}\n",
            "\n",
            "{'paperId': '2ed2fcd4257d1e9aeff9313c2628d5d4fd38fcf1', 'title': 'DOI Myths... busted', 'year': 2015}\n",
            "\n",
            "{'paperId': 'cbe577e3b73f17648cb8d91535acd1887de19692', 'title': 'What color is your paratext? trust metrics', 'year': 2012}\n",
            "\n",
            "{'paperId': '268750515b3da60856183813e7e5dad40cd44ff4', 'title': 'Public Consultations of Indigenous Peoples in the Hydrocarbons Industry - Bolivia and Peru', 'year': 2011}\n",
            "\n",
            "{'paperId': 'd96a7a0e209eefb6c05ff1025bfa55207b6d752f', 'title': 'Identify This! Identifiers and Trust', 'year': 2011}\n",
            "\n",
            "{'paperId': 'a114c2b4d513b97b20a5a1c853624d81431df671', 'title': 'What Color is Your Paratext?', 'year': 2010}\n",
            "\n",
            "{'paperId': 'bd7950314bef3327b39cf61e5db8f9515de55e59', 'title': 'Bolivia’s Proposed Changes to its Constitution and Their Effect on the Enforceability of Foreign Awards', 'year': 2008}\n",
            "\n",
            "{'paperId': '8bb410225be2927d7206d63ea00cf2f1c531f3b8', 'title': 'In Google We Trust', 'year': 2006}\n",
            "\n",
            "{'paperId': 'ad91eeb6a7ee4b8242259755e786cb649b2aa6f3', 'title': 'BOLIVIA: \"Transitorily\" Hikes Hydrocarbons Royalties to 82%', 'year': 2006}\n",
            "\n",
            "{'paperId': 'b2bb1cf458d3a6b977eb8a7e16ab3648f1bccd17', 'title': 'BOLIVIA: The Law of LNG', 'year': 2006}\n",
            "\n",
            "{'paperId': '1466775cf83fa606c6679c546d061f395e0f35f1', 'title': 'Bolivia’s Lower House Approves \"Renewed\" Hydrocarbons Bill', 'year': 2005}\n",
            "\n",
            "{'paperId': '5203319e93a6efe72294d8c396f42cc21d071c99', 'title': 'BOLIVIA: A bastard Hydrocarbons Law has been born', 'year': 2005}\n",
            "\n",
            "{'paperId': '098d6ea57077abaf67db9ed91dd6f49bc1c856e9', 'title': 'Bolivia prohibits Gas Exports to New Markets crashing LNG Project', 'year': 2004}\n",
            "\n",
            "{'paperId': '2298cca70e6b2f65e135a52455c3d0dca848ddd9', 'title': 'Why Should Mercosur Associate to the Energy Charter Treaty', 'year': 2004}\n",
            "\n",
            "{'paperId': '41c3b04ddcd44d56f34c2002d8452f430298df90', 'title': 'Bolivia Revokes Supreme Decree that Approved the Model Shared Risk Contracts', 'year': 2004}\n",
            "\n",
            "{'paperId': '6aa312920566cd311ac5b853ceb1e57e1e4904b2', 'title': 'Ethics: Implementing an Effective Comprehensive Program in Bolivia', 'year': 2003}\n",
            "\n",
            "{'paperId': 'df139e9fcedc279b354e5cc5bfb5b8b4987c3a4c', 'title': \"Ingenta's economic and technical models for providing institutional OA archives\", 'year': 2003}\n",
            "\n",
            "{'paperId': '20c1496402730e4f2757d45974012d650781e9d6', 'title': 'Book reviews', 'year': 1994}\n",
            "\n",
            "{'paperId': '2eb4d31ad7563b615f556128bbf89502aee273c3', 'title': 'Two theses about the new scholarly communication', 'year': 1993}\n",
            "\n"
          ]
        }
      ],
      "source": [
        "import requests\n",
        "import json\n",
        "\n",
        "endpoint = 'https://api.semanticscholar.org/graph/v1/author/'\n",
        "\n",
        "user_input = input('1. Author String search, or\\n2. Author ID search?\\n')\n",
        "\n",
        "if int(user_input) == 1:\n",
        "    author_query_string = input('ok! string search! Provide a name to search for: ')\n",
        "    endpoint = endpoint + 'search'\n",
        "    parameters = {'query':author_query_string,\n",
        "                'fields':'name,url,paperCount,hIndex'}\n",
        "    returns = 'data'\n",
        "    properties = 'authorId'\n",
        "\n",
        "elif int(user_input) == 2:\n",
        "    endpoint = endpoint + input('Provide an author ID (e.g. 1860983): ')\n",
        "    parameters = {'fields':'papers.title,papers.year'}\n",
        "    returns = 'papers'\n",
        "    properties = 'title'\n",
        "else:\n",
        "    print('bad input')\n",
        "\n",
        "print(endpoint)\n",
        "print(parameters)\n",
        "\n",
        "headers = {}\n",
        "headers = {'Content-Type' : 'application/json'}\n",
        "\n",
        "response = requests.get(url=endpoint, headers=headers, params=parameters)\n",
        "#print(response)\n",
        "response.raise_for_status()\n",
        "\n",
        "results = response.json()\n",
        "#print(json.dumps(results))\n",
        "for item in results[returns]:\n",
        "    print(item)\n",
        "    print()\n",
        "\n",
        "#count = 1\n",
        "#for item in results[returns]:\n",
        "#    print(str(count) + \" \" + item[properties])\n",
        "#    count=count+1\n",
        "#    print()"
      ]
    }
  ]
}